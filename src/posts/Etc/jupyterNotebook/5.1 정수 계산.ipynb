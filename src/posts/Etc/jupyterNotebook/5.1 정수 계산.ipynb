{
 "cells": [
  {
   "cell_type": "markdown",
   "id": "44750b18",
   "metadata": {},
   "source": [
    "## 5. 숫자 계산"
   ]
  },
  {
   "cell_type": "code",
   "execution_count": 36,
   "id": "4247cfcb",
   "metadata": {},
   "outputs": [
    {
     "data": {
      "text/plain": [
       "2"
      ]
     },
     "execution_count": 36,
     "metadata": {},
     "output_type": "execute_result"
    }
   ],
   "source": [
    "1 + 1 #덧셈"
   ]
  },
  {
   "cell_type": "code",
   "execution_count": 37,
   "id": "3b847fa9",
   "metadata": {},
   "outputs": [
    {
     "data": {
      "text/plain": [
       "-1"
      ]
     },
     "execution_count": 37,
     "metadata": {},
     "output_type": "execute_result"
    }
   ],
   "source": [
    "1 - 2 #뺄셈"
   ]
  },
  {
   "cell_type": "code",
   "execution_count": 38,
   "id": "0ef7b7fc",
   "metadata": {},
   "outputs": [
    {
     "data": {
      "text/plain": [
       "4"
      ]
     },
     "execution_count": 38,
     "metadata": {},
     "output_type": "execute_result"
    }
   ],
   "source": [
    "2 * 2 #곱셈"
   ]
  },
  {
   "cell_type": "code",
   "execution_count": 39,
   "id": "50aced89",
   "metadata": {},
   "outputs": [
    {
     "data": {
      "text/plain": [
       "2.5"
      ]
     },
     "execution_count": 39,
     "metadata": {},
     "output_type": "execute_result"
    }
   ],
   "source": [
    "5 / 2 #나눗셈"
   ]
  },
  {
   "cell_type": "markdown",
   "id": "c55303d3",
   "metadata": {},
   "source": [
    "> ### 파이썬 2와 파이썬 3의 차이점\n",
    "> ***파이썬 2***에서 5 / 2는 2.5가 아닌 2가 나오는데, 정수끼리 나눗셈 결과는 ***정수***가 나오도록 정했기 때문.   \n",
    "> ***파이썬 3는 정수끼리 나눗셈을 해도 나눗셈이 완전히 나누어 떨어져도 실수가 나옴***  \n",
    "> ```py\n",
    "> 4 / 2\n",
    "> ```\n",
    "> ```\n",
    "> 2.0\n",
    "> ```"
   ]
  },
  {
   "cell_type": "code",
   "execution_count": 40,
   "id": "9cd51f85",
   "metadata": {},
   "outputs": [
    {
     "data": {
      "text/plain": [
       "2"
      ]
     },
     "execution_count": 40,
     "metadata": {},
     "output_type": "execute_result"
    }
   ],
   "source": [
    "5 // 2 # 버림 나눗셈(floor division) : 나눗셈의 결과에서 소수점 이하는 버림"
   ]
  },
  {
   "cell_type": "code",
   "execution_count": 41,
   "id": "b0f55fc9",
   "metadata": {},
   "outputs": [
    {
     "data": {
      "text/plain": [
       "2.0"
      ]
     },
     "execution_count": 41,
     "metadata": {},
     "output_type": "execute_result"
    }
   ],
   "source": [
    "5.5 // 2 # 실수에 // 연산자를 사용하면 결과는 실수가 나오며 소수점 이하는 버림. 따라서 결과는 항상 .0으로 끝남"
   ]
  },
  {
   "cell_type": "code",
   "execution_count": 42,
   "id": "6ba8e87a",
   "metadata": {},
   "outputs": [
    {
     "data": {
      "text/plain": [
       "1"
      ]
     },
     "execution_count": 42,
     "metadata": {},
     "output_type": "execute_result"
    }
   ],
   "source": [
    "5 % 2 # 모듈로(modulo) 연산자 %: 나눗셈 후 나머지를 구하는 연산자"
   ]
  },
  {
   "cell_type": "code",
   "execution_count": 43,
   "id": "606e2fc6",
   "metadata": {},
   "outputs": [
    {
     "data": {
      "text/plain": [
       "1024"
      ]
     },
     "execution_count": 43,
     "metadata": {},
     "output_type": "execute_result"
    }
   ],
   "source": [
    "2 ** 10 # 거듭제곱을 구하는 ** 연산자 2 ** 10은 1024이고 2^10을 뜻함"
   ]
  },
  {
   "cell_type": "code",
   "execution_count": 44,
   "id": "36948a07",
   "metadata": {},
   "outputs": [
    {
     "data": {
      "text/plain": [
       "3"
      ]
     },
     "execution_count": 44,
     "metadata": {},
     "output_type": "execute_result"
    }
   ],
   "source": [
    "int(3.3) # int() : 정수(integer)를 뜻하며 값을 정수로 만들어 줌(소수점 이하는 버림)"
   ]
  },
  {
   "cell_type": "code",
   "execution_count": 45,
   "id": "62ef3dbf",
   "metadata": {},
   "outputs": [
    {
     "data": {
      "text/plain": [
       "2"
      ]
     },
     "execution_count": 45,
     "metadata": {},
     "output_type": "execute_result"
    }
   ],
   "source": [
    "int(5 / 2) # int(계산식)"
   ]
  },
  {
   "cell_type": "code",
   "execution_count": 46,
   "id": "9caf8443",
   "metadata": {},
   "outputs": [
    {
     "data": {
      "text/plain": [
       "10"
      ]
     },
     "execution_count": 46,
     "metadata": {},
     "output_type": "execute_result"
    }
   ],
   "source": [
    "int('10') #  int('문자열') : 문자열을 넣을땐 정수로 된 문자열을 넣어야 한다."
   ]
  },
  {
   "cell_type": "code",
   "execution_count": 47,
   "id": "2fa12502",
   "metadata": {},
   "outputs": [
    {
     "data": {
      "text/plain": [
       "int"
      ]
     },
     "execution_count": 47,
     "metadata": {},
     "output_type": "execute_result"
    }
   ],
   "source": [
    "type(10) # 객체의 타입(자료형) 알아내기 : type(값) "
   ]
  },
  {
   "cell_type": "markdown",
   "id": "240d4a06",
   "metadata": {},
   "source": [
    "> ### type(10)  \n",
    "> <class 'int'>  \n",
    "> type은 말그대로 객체의 타입(자료형)을 알아내는 함수.  \n",
    "> type에 괄호를 붙이고 10을 넣어보면 <class 'int'>라고 나오는데 정수(int) 클래스라는 뜻이다.  \n",
    "> 파이썬에서는 숫자도 객체(object)이며, 객체는 클래스(class)로 표현함.  \n",
    "> 앞에서 사용한 int(3.3)은 실수 3.3을 int 클래스로 된 객체로 만든다는 뜻이다."
   ]
  },
  {
   "cell_type": "code",
   "execution_count": 48,
   "id": "997a8760",
   "metadata": {},
   "outputs": [
    {
     "data": {
      "text/plain": [
       "(2, 1)"
      ]
     },
     "execution_count": 48,
     "metadata": {},
     "output_type": "execute_result"
    }
   ],
   "source": [
    "divmod(5, 2) # 몫과 나머지를 함께 구하기"
   ]
  },
  {
   "cell_type": "markdown",
   "id": "cecd882e",
   "metadata": {},
   "source": [
    "> 값을 괄호로 묶은 형태를 튜플(tuple)이라고 하며 값 여러 개를 모아서 표현할 때 사용  \n",
    "> 튜플은 변수 여러 개에 저장할 수 있는데 divmod의 결과가 튜플로 나오므로 몫과 나머지는 변수 두 개에 저장할 수 있음."
   ]
  },
  {
   "cell_type": "code",
   "execution_count": 49,
   "id": "8f2ef4cf",
   "metadata": {},
   "outputs": [
    {
     "name": "stdout",
     "output_type": "stream",
     "text": [
      "2 1\n"
     ]
    }
   ],
   "source": [
    "quotient, remainder = divmod(5, 2)\n",
    "print(quotient, remainder)"
   ]
  },
  {
   "cell_type": "markdown",
   "id": "3bdfaedb",
   "metadata": {},
   "source": [
    "> ### 참고 | 2진수, 8진수, 16진수\n",
    "> \n",
    "> - 2진수: 숫자 앞에 0b를 붙이며 0과 1을 사용합니다.\n",
    "> - 8진수: 숫자 앞에 0o(숫자 0과 소문자 o)를 붙이며 0부터 7까지 사용합니다.\n",
    "> - 16진수: 숫자 앞에 0x 또는 0X를 붙이며 0부터 9, A부터 F까지 사용합니다(소문자 a부터 f도 가능)."
   ]
  },
  {
   "cell_type": "code",
   "execution_count": 50,
   "id": "b6d92d76",
   "metadata": {},
   "outputs": [
    {
     "data": {
      "text/plain": [
       "6"
      ]
     },
     "execution_count": 50,
     "metadata": {},
     "output_type": "execute_result"
    }
   ],
   "source": [
    "0b110"
   ]
  },
  {
   "cell_type": "code",
   "execution_count": 51,
   "id": "02b5eaad",
   "metadata": {},
   "outputs": [
    {
     "data": {
      "text/plain": [
       "8"
      ]
     },
     "execution_count": 51,
     "metadata": {},
     "output_type": "execute_result"
    }
   ],
   "source": [
    "0o10"
   ]
  },
  {
   "cell_type": "code",
   "execution_count": 52,
   "id": "3a8b27de",
   "metadata": {},
   "outputs": [
    {
     "data": {
      "text/plain": [
       "15"
      ]
     },
     "execution_count": 52,
     "metadata": {},
     "output_type": "execute_result"
    }
   ],
   "source": [
    "0xF"
   ]
  }
 ],
 "metadata": {
  "kernelspec": {
   "display_name": "Python 3 (ipykernel)",
   "language": "python",
   "name": "python3"
  },
  "language_info": {
   "codemirror_mode": {
    "name": "ipython",
    "version": 3
   },
   "file_extension": ".py",
   "mimetype": "text/x-python",
   "name": "python",
   "nbconvert_exporter": "python",
   "pygments_lexer": "ipython3",
   "version": "3.10.9"
  }
 },
 "nbformat": 4,
 "nbformat_minor": 5
}
