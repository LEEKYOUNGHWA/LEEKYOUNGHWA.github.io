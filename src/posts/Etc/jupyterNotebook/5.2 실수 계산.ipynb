{
 "cells": [
  {
   "cell_type": "markdown",
   "id": "e7ca4b0a",
   "metadata": {},
   "source": [
    "## 5.2 실수계산"
   ]
  },
  {
   "cell_type": "code",
   "execution_count": 39,
   "id": "f054c477",
   "metadata": {},
   "outputs": [
    {
     "data": {
      "text/plain": [
       "5.6"
      ]
     },
     "execution_count": 39,
     "metadata": {},
     "output_type": "execute_result"
    }
   ],
   "source": [
    "3.5 + 2.1"
   ]
  },
  {
   "cell_type": "code",
   "execution_count": 40,
   "id": "f9b41737",
   "metadata": {},
   "outputs": [
    {
     "data": {
      "text/plain": [
       "1.5999999999999996"
      ]
     },
     "execution_count": 40,
     "metadata": {},
     "output_type": "execute_result"
    }
   ],
   "source": [
    "4.3 - 2.7"
   ]
  },
  {
   "cell_type": "markdown",
   "id": "ff865649",
   "metadata": {},
   "source": [
    "> 1.6이 나와야 하는데 1.5999999999999996이 나왔음. 컴퓨터는 실수를 표현할 때 오차가 발생하기 때문.  \n",
    "> 자세한 내용은 [부록 ‎47.7 실수 값의 오차](https://dojang.io/mod/page/view.php?id=2466)를 참조."
   ]
  },
  {
   "cell_type": "code",
   "execution_count": 41,
   "id": "fbb6e390",
   "metadata": {},
   "outputs": [
    {
     "data": {
      "text/plain": [
       "4.65"
      ]
     },
     "execution_count": 41,
     "metadata": {},
     "output_type": "execute_result"
    }
   ],
   "source": [
    "1.5 * 3.1"
   ]
  },
  {
   "cell_type": "code",
   "execution_count": 42,
   "id": "4b32196f",
   "metadata": {},
   "outputs": [
    {
     "data": {
      "text/plain": [
       "1.7741935483870968"
      ]
     },
     "execution_count": 42,
     "metadata": {},
     "output_type": "execute_result"
    }
   ],
   "source": [
    "5.5 / 3.1"
   ]
  },
  {
   "cell_type": "code",
   "execution_count": 43,
   "id": "aa6bdbce",
   "metadata": {},
   "outputs": [
    {
     "data": {
      "text/plain": [
       "9.2"
      ]
     },
     "execution_count": 43,
     "metadata": {},
     "output_type": "execute_result"
    }
   ],
   "source": [
    "4.2 + 5 # 실수와 정수를 함께 계산하면 표현 범위가 넓은 실수로 계산됩니다(실수가 정수보다 표현 범위가 넓습니다)."
   ]
  },
  {
   "cell_type": "code",
   "execution_count": 44,
   "id": "e98448b3",
   "metadata": {},
   "outputs": [
    {
     "data": {
      "text/plain": [
       "5.0"
      ]
     },
     "execution_count": 44,
     "metadata": {},
     "output_type": "execute_result"
    }
   ],
   "source": [
    "float(5) # float(숫자) : 숫자 또는 계산 결과를 강제로 실수로 float"
   ]
  },
  {
   "cell_type": "code",
   "execution_count": 45,
   "id": "0b81bde0",
   "metadata": {},
   "outputs": [
    {
     "data": {
      "text/plain": [
       "3.0"
      ]
     },
     "execution_count": 45,
     "metadata": {},
     "output_type": "execute_result"
    }
   ],
   "source": [
    "float(1 + 2) # float(계산식)"
   ]
  },
  {
   "cell_type": "code",
   "execution_count": 46,
   "id": "2df0e5ba",
   "metadata": {},
   "outputs": [
    {
     "data": {
      "text/plain": [
       "5.3"
      ]
     },
     "execution_count": 46,
     "metadata": {},
     "output_type": "execute_result"
    }
   ],
   "source": [
    "float('5.3') # float('문자열') : 실수 또는 정수로 된 문자열이어야 함."
   ]
  },
  {
   "cell_type": "markdown",
   "id": "f715c8ad",
   "metadata": {},
   "source": [
    "> ### float\n",
    "> 부동소수점(floating point)에서 따왔으며 값을 실수로 만들어줌.  \n",
    "> 즉, 실수는 float 자료형이며 type에 실수를 넣어보면 <class 'float'>가 나옴.\n",
    "> type(3.5)\n",
    "> <class 'float'>\n"
   ]
  },
  {
   "cell_type": "markdown",
   "id": "e05fcba1",
   "metadata": {},
   "source": [
    "> ### 참고 | 복소수\n",
    "> 실수부와 허수부로 이루어진 복소수(complex number)도 사용할 수 있다.\n",
    "> 허수부는 숫자 뒤에 j를 붙입니다(수학에서는 허수를 i로 표현하지만 공학에서는 j를 사용)\n"
   ]
  },
  {
   "cell_type": "code",
   "execution_count": 47,
   "id": "06bc5806",
   "metadata": {},
   "outputs": [
    {
     "data": {
      "text/plain": [
       "(1.2+1.3j)"
      ]
     },
     "execution_count": 47,
     "metadata": {},
     "output_type": "execute_result"
    }
   ],
   "source": [
    "1.2+1.3j"
   ]
  },
  {
   "cell_type": "code",
   "execution_count": 48,
   "id": "e270d26a",
   "metadata": {},
   "outputs": [
    {
     "data": {
      "text/plain": [
       "(1.2+1.3j)"
      ]
     },
     "execution_count": 48,
     "metadata": {},
     "output_type": "execute_result"
    }
   ],
   "source": [
    "complex(1.2, 1.3) # 복소수로 만들 때는 complex를 사용"
   ]
  }
 ],
 "metadata": {
  "kernelspec": {
   "display_name": "Python 3 (ipykernel)",
   "language": "python",
   "name": "python3"
  },
  "language_info": {
   "codemirror_mode": {
    "name": "ipython",
    "version": 3
   },
   "file_extension": ".py",
   "mimetype": "text/x-python",
   "name": "python",
   "nbconvert_exporter": "python",
   "pygments_lexer": "ipython3",
   "version": "3.10.9"
  }
 },
 "nbformat": 4,
 "nbformat_minor": 5
}
